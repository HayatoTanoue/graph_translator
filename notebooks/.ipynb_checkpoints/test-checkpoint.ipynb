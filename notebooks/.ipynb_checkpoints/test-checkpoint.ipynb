{
 "cells": [
  {
   "cell_type": "markdown",
   "metadata": {},
   "source": [
    "# 変換のテスト"
   ]
  },
  {
   "cell_type": "code",
   "execution_count": 1,
   "metadata": {},
   "outputs": [],
   "source": [
    "import sys\n",
    "sys.path.append(\"..\")\n",
    "\n",
    "import torch\n",
    "import numpy as np\n",
    "import networkx as nx\n",
    "import pandas as pd\n",
    "import seaborn as sns\n",
    "import matplotlib.pyplot as plt\n",
    "import torchvision.transforms as transforms\n",
    "\n",
    "from glob import glob\n",
    "from tqdm import tqdm\n",
    "from collections import Counter\n",
    "from lmfit.models import PowerLawModel\n",
    "from scipy.stats import skew, kurtosis\n",
    "\n",
    "from reserch_utils_HT import no_growth, no_preferential_attachment\n",
    "from reserch_utils_HT import network_to_image, degree_hist\n",
    "from model import Generator\n",
    "from model import Discriminator\n",
    "from train_utils import get_loader, label2onehot"
   ]
  },
  {
   "cell_type": "code",
   "execution_count": 8,
   "metadata": {},
   "outputs": [],
   "source": [
    "def img_transform(model, img, transform, device):\n",
    "    \"\"\" make all label fake image from graph \"\"\"\n",
    "    graph_tensor = transform(img).reshape(1,1,100,100).to(device) # img to tensor\n",
    "    trg_label = label2onehot(torch.tensor([0,1,2,3]), 4).to(device) # make target label\n",
    "    origin_tensors = torch.cat([graph_tensor for _ in range(4)]) # cat origin image tensor\n",
    "    # generate fake image\n",
    "    with torch.no_grad():\n",
    "        fake_tensor = model(origin_tensors, trg_label)\n",
    "    return fake_tensor.detach().cpu()\n",
    "\n",
    "def power_law_fit(G):\n",
    "    \"\"\" degree dist fitting \"\"\"\n",
    "    c = Counter(dict(G.degree()).values())\n",
    "    score_sorted = sorted(c.items(), key=lambda x:x[0])\n",
    "    x = [k for k, v in score_sorted if k!=0]\n",
    "    y = [v for k, v in score_sorted if k!=0]\n",
    "    model = PowerLawModel()\n",
    "    params = model.guess(y, x=x)\n",
    "    result = model.fit(y, params, x=x)\n",
    "    return result.values\n",
    "\n",
    "def tensor_to_graph(tensor, thres):\n",
    "    A = (tensor + tensor.T).numpy()\n",
    "    A = (A > thres).astype(int)\n",
    "    G = nx.from_numpy_array(A)\n",
    "    return G\n",
    "\n",
    "def net_info(G):\n",
    "    def __average_path_len(G):\n",
    "        if nx.is_connected(G):\n",
    "            return nx.average_shortest_path_length(G)\n",
    "        else:\n",
    "            return None\n",
    "    \n",
    "    degs = np.array(list(dict(G.degree()).values()))\n",
    "    info = {\n",
    "        \"max_degree\" : max(degs),\n",
    "        \"min_degree\" : min(degs),\n",
    "        \"average_degree\": np.average(degs),\n",
    "        \"num_edges\" : nx.number_of_edges(G),\n",
    "        \"beta\" : power_law_fit(G)['exponent'], # べきfittingの指数\n",
    "        \"variance\" : np.var(degs,ddof=1),\n",
    "        \"mode\" : Counter(degs).most_common()[0][0],\n",
    "        \"Skewness\": skew(degs),  # 歪度\n",
    "        \"Kurtosis\": kurtosis(degs),  # 尖度\n",
    "        \"average_cluster\": nx.average_clustering(G),  # 平均クラスター\n",
    "        \"average_shortest_path\": __average_path_len(G)  # 平均最短経路長\n",
    "    }\n",
    "    return info\n",
    "\n",
    "\n",
    "def test_3model(model,transform):\n",
    "    df = pd.DataFrame()\n",
    "    num_to_kind = [\"BA\", \"Attach\", \"Growth\", \"Random\"]\n",
    "    for m in tqdm([1,2,3,4,5,6,7,8,9,10]):\n",
    "        for i in range(100):\n",
    "            G = nx.barabasi_albert_graph(100, m, seed=i+2000)\n",
    "            info = net_info(G)\n",
    "            info[\"origin_label\"] = \"BA\"\n",
    "            info[\"fake_label\"] = \"origin\"\n",
    "            info[\"parameter\"] = m\n",
    "            info[\"seed\"] = i+2000\n",
    "            df = df.append(info, ignore_index=True)\n",
    "\n",
    "            img = network_to_image(G, sort=True)\n",
    "            fake_tensor = img_transform(model, img, transform, device)\n",
    "\n",
    "            for i in range(4):\n",
    "                fake_G = tensor_to_graph(fake_tensor[i][0], 1.)\n",
    "                info = net_info(fake_G)\n",
    "                info[\"origin_label\"] = \"BA\"\n",
    "                info[\"fake_label\"] = num_to_kind[i]\n",
    "                info[\"parameter\"] = m\n",
    "                info[\"seed\"] = i+2000\n",
    "                df = df.append(info, ignore_index=True)\n",
    "\n",
    "    for m in tqdm([1,2,3,4,5,6,7,8,9,10]):\n",
    "        for i in range(100):\n",
    "            G = no_preferential_attachment(100, m, seed=i+2000)\n",
    "            info = net_info(G)\n",
    "            info[\"origin_label\"] = \"Growth\"\n",
    "            info[\"fake_label\"] = \"origin\"\n",
    "            info[\"figsize=(24, 12)parameter\"] = m\n",
    "            info[\"seed\"] = i+2000\n",
    "            df = df.append(info, ignore_index=True)\n",
    "\n",
    "            img = network_to_image(G, sort=True)\n",
    "            fake_tensor = img_transform(model, img, transform, device)\n",
    "\n",
    "            for i in range(4):\n",
    "                fake_G = tensor_to_graph(fake_tensor[i][0], 1.)\n",
    "                info = net_info(fake_G)\n",
    "                info[\"origin_label\"] = \"Growth\"\n",
    "                info[\"fake_label\"] = num_to_kind[i]\n",
    "                info[\"parameter\"] = m\n",
    "                info[\"seed\"] = i+2000\n",
    "                df = df.append(info, ignore_index=True)\n",
    "\n",
    "\n",
    "    for m in tqdm([100, 200, 300,400,500,600,700,800,900,1000]):\n",
    "        for i in range(100):\n",
    "            G = no_growth(100, m, seed=i+2000)\n",
    "            info = net_info(G)\n",
    "            info[\"origin_label\"] = \"Attach\"\n",
    "            info[\"fake_label\"] = \"origin\"\n",
    "            info[\"parameter\"] = m\n",
    "            info[\"seed\"] = i+2000\n",
    "            df = df.append(info, ignore_index=True)\n",
    "\n",
    "            img = network_to_image(G, sort=True)\n",
    "            fake_tensor = img_transform(model, img, transform, device)\n",
    "\n",
    "            for i in range(4):\n",
    "                fake_G = tensor_to_graph(fake_tensor[i][0], 1.)\n",
    "                info = net_info(fake_G)\n",
    "                info[\"origin_label\"] = \"Attach\"\n",
    "                info[\"fake_label\"] = num_to_kind[i]\n",
    "                info[\"parameter\"] = m\n",
    "                info[\"seed\"] = i+2000\n",
    "                df = df.append(info, ignore_index=True)\n",
    "    return df"
   ]
  },
  {
   "cell_type": "code",
   "execution_count": 9,
   "metadata": {},
   "outputs": [],
   "source": [
    "transform = transforms.Compose(\n",
    "    [\n",
    "        transforms.Resize(100),\n",
    "        transforms.Grayscale(),\n",
    "        transforms.ToTensor(),\n",
    "    ]\n",
    ")"
   ]
  },
  {
   "cell_type": "code",
   "execution_count": 11,
   "metadata": {},
   "outputs": [
    {
     "data": {
      "text/plain": [
       "['../logs/subset1_edge10',\n",
       " '../logs/poisson',\n",
       " '../logs/poisson_edge10',\n",
       " '../logs/poisson_edge1',\n",
       " '../logs/subset1',\n",
       " '../logs/poisson_edge0.5',\n",
       " '../logs/subset1_edge1']"
      ]
     },
     "execution_count": 11,
     "metadata": {},
     "output_type": "execute_result"
    }
   ],
   "source": [
    "glob(\"../logs/*\")"
   ]
  },
  {
   "cell_type": "code",
   "execution_count": 10,
   "metadata": {},
   "outputs": [
    {
     "name": "stdout",
     "output_type": "stream",
     "text": [
      "../logs/poisson 50000\n"
     ]
    },
    {
     "name": "stderr",
     "output_type": "stream",
     "text": [
      "100%|██████████| 10/10 [03:59<00:00, 28.68s/it]\n",
      "100%|██████████| 10/10 [04:19<00:00, 30.26s/it]\n",
      "100%|██████████| 10/10 [04:23<00:00, 33.83s/it]\n"
     ]
    },
    {
     "name": "stdout",
     "output_type": "stream",
     "text": [
      "../logs/poisson 90000\n"
     ]
    },
    {
     "name": "stderr",
     "output_type": "stream",
     "text": [
      "100%|██████████| 10/10 [03:48<00:00, 28.90s/it]\n",
      "100%|██████████| 10/10 [04:17<00:00, 32.30s/it]\n",
      "100%|██████████| 10/10 [04:32<00:00, 36.29s/it]\n"
     ]
    },
    {
     "name": "stdout",
     "output_type": "stream",
     "text": [
      "../logs/poisson 100000\n"
     ]
    },
    {
     "name": "stderr",
     "output_type": "stream",
     "text": [
      "100%|██████████| 10/10 [03:43<00:00, 27.69s/it]\n",
      "100%|██████████| 10/10 [04:11<00:00, 30.80s/it]\n",
      "100%|██████████| 10/10 [04:19<00:00, 34.17s/it]\n"
     ]
    },
    {
     "name": "stdout",
     "output_type": "stream",
     "text": [
      "../logs/poisson_edge10 50000\n"
     ]
    },
    {
     "name": "stderr",
     "output_type": "stream",
     "text": [
      "100%|██████████| 10/10 [02:51<00:00, 20.39s/it]\n",
      "100%|██████████| 10/10 [03:24<00:00, 25.16s/it]\n",
      "100%|██████████| 10/10 [03:55<00:00, 31.36s/it]\n"
     ]
    },
    {
     "name": "stdout",
     "output_type": "stream",
     "text": [
      "../logs/poisson_edge10 90000\n"
     ]
    },
    {
     "name": "stderr",
     "output_type": "stream",
     "text": [
      "100%|██████████| 10/10 [03:16<00:00, 24.61s/it]\n",
      "100%|██████████| 10/10 [03:32<00:00, 26.41s/it]\n",
      "100%|██████████| 10/10 [03:54<00:00, 31.48s/it]\n"
     ]
    },
    {
     "name": "stdout",
     "output_type": "stream",
     "text": [
      "../logs/poisson_edge10 100000\n"
     ]
    },
    {
     "name": "stderr",
     "output_type": "stream",
     "text": [
      "100%|██████████| 10/10 [03:56<00:00, 30.08s/it]\n",
      "100%|██████████| 10/10 [04:04<00:00, 31.24s/it]\n",
      "100%|██████████| 10/10 [04:46<00:00, 38.54s/it]\n"
     ]
    },
    {
     "name": "stdout",
     "output_type": "stream",
     "text": [
      "../logs/poisson_edge1 50000\n"
     ]
    },
    {
     "name": "stderr",
     "output_type": "stream",
     "text": [
      "100%|██████████| 10/10 [03:48<00:00, 28.91s/it]\n",
      "100%|██████████| 10/10 [04:12<00:00, 31.47s/it]\n",
      "100%|██████████| 10/10 [04:13<00:00, 34.20s/it]\n"
     ]
    },
    {
     "name": "stdout",
     "output_type": "stream",
     "text": [
      "../logs/poisson_edge1 90000\n"
     ]
    },
    {
     "name": "stderr",
     "output_type": "stream",
     "text": [
      "100%|██████████| 10/10 [03:45<00:00, 28.06s/it]\n",
      "100%|██████████| 10/10 [04:10<00:00, 30.95s/it]\n",
      "100%|██████████| 10/10 [04:24<00:00, 35.26s/it]\n"
     ]
    },
    {
     "name": "stdout",
     "output_type": "stream",
     "text": [
      "../logs/poisson_edge1 100000\n"
     ]
    },
    {
     "name": "stderr",
     "output_type": "stream",
     "text": [
      "100%|██████████| 10/10 [03:55<00:00, 29.97s/it]\n",
      "100%|██████████| 10/10 [04:14<00:00, 31.61s/it]\n",
      "100%|██████████| 10/10 [04:33<00:00, 35.64s/it]\n"
     ]
    },
    {
     "name": "stdout",
     "output_type": "stream",
     "text": [
      "../logs/subset1 50000\n"
     ]
    },
    {
     "name": "stderr",
     "output_type": "stream",
     "text": [
      " 90%|█████████ | 9/10 [01:49<00:13, 13.28s/it]"
     ]
    },
    {
     "ename": "KeyboardInterrupt",
     "evalue": "",
     "output_type": "error",
     "traceback": [
      "\u001b[0;31m---------------------------------------------------------------------------\u001b[0m",
      "\u001b[0;31mKeyboardInterrupt\u001b[0m                         Traceback (most recent call last)",
      "\u001b[0;32m<ipython-input-10-3b89c77da9a2>\u001b[0m in \u001b[0;36m<module>\u001b[0;34m\u001b[0m\n\u001b[1;32m     14\u001b[0m         \u001b[0mmodel\u001b[0m\u001b[0;34m.\u001b[0m\u001b[0mload_state_dict\u001b[0m\u001b[0;34m(\u001b[0m\u001b[0mtorch\u001b[0m\u001b[0;34m.\u001b[0m\u001b[0mload\u001b[0m\u001b[0;34m(\u001b[0m\u001b[0mmodel_path\u001b[0m\u001b[0;34m)\u001b[0m\u001b[0;34m)\u001b[0m\u001b[0;34m\u001b[0m\u001b[0;34m\u001b[0m\u001b[0m\n\u001b[1;32m     15\u001b[0m \u001b[0;34m\u001b[0m\u001b[0m\n\u001b[0;32m---> 16\u001b[0;31m         \u001b[0mdf\u001b[0m \u001b[0;34m=\u001b[0m \u001b[0mtest_3model\u001b[0m\u001b[0;34m(\u001b[0m\u001b[0mmodel\u001b[0m\u001b[0;34m,\u001b[0m \u001b[0mtransform\u001b[0m\u001b[0;34m)\u001b[0m\u001b[0;34m\u001b[0m\u001b[0;34m\u001b[0m\u001b[0m\n\u001b[0m\u001b[1;32m     17\u001b[0m         \u001b[0mdf\u001b[0m\u001b[0;34m.\u001b[0m\u001b[0mto_csv\u001b[0m\u001b[0;34m(\u001b[0m\u001b[0;34mf\"{file_name}/test_{epoch}.csv\"\u001b[0m\u001b[0;34m,\u001b[0m \u001b[0mindex\u001b[0m\u001b[0;34m=\u001b[0m\u001b[0;32mFalse\u001b[0m\u001b[0;34m)\u001b[0m\u001b[0;34m\u001b[0m\u001b[0;34m\u001b[0m\u001b[0m\n",
      "\u001b[0;32m<ipython-input-8-54472c4bc642>\u001b[0m in \u001b[0;36mtest_3model\u001b[0;34m(model, transform)\u001b[0m\n\u001b[1;32m     56\u001b[0m         \u001b[0;32mfor\u001b[0m \u001b[0mi\u001b[0m \u001b[0;32min\u001b[0m \u001b[0mrange\u001b[0m\u001b[0;34m(\u001b[0m\u001b[0;36m100\u001b[0m\u001b[0;34m)\u001b[0m\u001b[0;34m:\u001b[0m\u001b[0;34m\u001b[0m\u001b[0;34m\u001b[0m\u001b[0m\n\u001b[1;32m     57\u001b[0m             \u001b[0mG\u001b[0m \u001b[0;34m=\u001b[0m \u001b[0mnx\u001b[0m\u001b[0;34m.\u001b[0m\u001b[0mbarabasi_albert_graph\u001b[0m\u001b[0;34m(\u001b[0m\u001b[0;36m100\u001b[0m\u001b[0;34m,\u001b[0m \u001b[0mm\u001b[0m\u001b[0;34m,\u001b[0m \u001b[0mseed\u001b[0m\u001b[0;34m=\u001b[0m\u001b[0mi\u001b[0m\u001b[0;34m+\u001b[0m\u001b[0;36m2000\u001b[0m\u001b[0;34m)\u001b[0m\u001b[0;34m\u001b[0m\u001b[0;34m\u001b[0m\u001b[0m\n\u001b[0;32m---> 58\u001b[0;31m             \u001b[0minfo\u001b[0m \u001b[0;34m=\u001b[0m \u001b[0mnet_info\u001b[0m\u001b[0;34m(\u001b[0m\u001b[0mG\u001b[0m\u001b[0;34m)\u001b[0m\u001b[0;34m\u001b[0m\u001b[0;34m\u001b[0m\u001b[0m\n\u001b[0m\u001b[1;32m     59\u001b[0m             \u001b[0minfo\u001b[0m\u001b[0;34m[\u001b[0m\u001b[0;34m\"origin_label\"\u001b[0m\u001b[0;34m]\u001b[0m \u001b[0;34m=\u001b[0m \u001b[0;34m\"BA\"\u001b[0m\u001b[0;34m\u001b[0m\u001b[0;34m\u001b[0m\u001b[0m\n\u001b[1;32m     60\u001b[0m             \u001b[0minfo\u001b[0m\u001b[0;34m[\u001b[0m\u001b[0;34m\"fake_label\"\u001b[0m\u001b[0;34m]\u001b[0m \u001b[0;34m=\u001b[0m \u001b[0;34m\"origin\"\u001b[0m\u001b[0;34m\u001b[0m\u001b[0;34m\u001b[0m\u001b[0m\n",
      "\u001b[0;32m<ipython-input-8-54472c4bc642>\u001b[0m in \u001b[0;36mnet_info\u001b[0;34m(G)\u001b[0m\n\u001b[1;32m     45\u001b[0m         \u001b[0;34m\"Kurtosis\"\u001b[0m\u001b[0;34m:\u001b[0m \u001b[0mkurtosis\u001b[0m\u001b[0;34m(\u001b[0m\u001b[0mdegs\u001b[0m\u001b[0;34m)\u001b[0m\u001b[0;34m,\u001b[0m  \u001b[0;31m# 尖度\u001b[0m\u001b[0;34m\u001b[0m\u001b[0;34m\u001b[0m\u001b[0m\n\u001b[1;32m     46\u001b[0m         \u001b[0;34m\"average_cluster\"\u001b[0m\u001b[0;34m:\u001b[0m \u001b[0mnx\u001b[0m\u001b[0;34m.\u001b[0m\u001b[0maverage_clustering\u001b[0m\u001b[0;34m(\u001b[0m\u001b[0mG\u001b[0m\u001b[0;34m)\u001b[0m\u001b[0;34m,\u001b[0m  \u001b[0;31m# 平均クラスター\u001b[0m\u001b[0;34m\u001b[0m\u001b[0;34m\u001b[0m\u001b[0m\n\u001b[0;32m---> 47\u001b[0;31m         \u001b[0;34m\"average_shortest_path\"\u001b[0m\u001b[0;34m:\u001b[0m \u001b[0m__average_path_len\u001b[0m\u001b[0;34m(\u001b[0m\u001b[0mG\u001b[0m\u001b[0;34m)\u001b[0m  \u001b[0;31m# 平均最短経路長\u001b[0m\u001b[0;34m\u001b[0m\u001b[0;34m\u001b[0m\u001b[0m\n\u001b[0m\u001b[1;32m     48\u001b[0m     }\n\u001b[1;32m     49\u001b[0m     \u001b[0;32mreturn\u001b[0m \u001b[0minfo\u001b[0m\u001b[0;34m\u001b[0m\u001b[0;34m\u001b[0m\u001b[0m\n",
      "\u001b[0;32m<ipython-input-8-54472c4bc642>\u001b[0m in \u001b[0;36m__average_path_len\u001b[0;34m(G)\u001b[0m\n\u001b[1;32m     29\u001b[0m     \u001b[0;32mdef\u001b[0m \u001b[0m__average_path_len\u001b[0m\u001b[0;34m(\u001b[0m\u001b[0mG\u001b[0m\u001b[0;34m)\u001b[0m\u001b[0;34m:\u001b[0m\u001b[0;34m\u001b[0m\u001b[0;34m\u001b[0m\u001b[0m\n\u001b[1;32m     30\u001b[0m         \u001b[0;32mif\u001b[0m \u001b[0mnx\u001b[0m\u001b[0;34m.\u001b[0m\u001b[0mis_connected\u001b[0m\u001b[0;34m(\u001b[0m\u001b[0mG\u001b[0m\u001b[0;34m)\u001b[0m\u001b[0;34m:\u001b[0m\u001b[0;34m\u001b[0m\u001b[0;34m\u001b[0m\u001b[0m\n\u001b[0;32m---> 31\u001b[0;31m             \u001b[0;32mreturn\u001b[0m \u001b[0mnx\u001b[0m\u001b[0;34m.\u001b[0m\u001b[0maverage_shortest_path_length\u001b[0m\u001b[0;34m(\u001b[0m\u001b[0mG\u001b[0m\u001b[0;34m)\u001b[0m\u001b[0;34m\u001b[0m\u001b[0;34m\u001b[0m\u001b[0m\n\u001b[0m\u001b[1;32m     32\u001b[0m         \u001b[0;32melse\u001b[0m\u001b[0;34m:\u001b[0m\u001b[0;34m\u001b[0m\u001b[0;34m\u001b[0m\u001b[0m\n\u001b[1;32m     33\u001b[0m             \u001b[0;32mreturn\u001b[0m \u001b[0;32mNone\u001b[0m\u001b[0;34m\u001b[0m\u001b[0;34m\u001b[0m\u001b[0m\n",
      "\u001b[0;32m/opt/conda/lib/python3.6/site-packages/networkx/algorithms/shortest_paths/generic.py\u001b[0m in \u001b[0;36maverage_shortest_path_length\u001b[0;34m(G, weight)\u001b[0m\n\u001b[1;32m    330\u001b[0m         \u001b[0mpath_length\u001b[0m \u001b[0;34m=\u001b[0m \u001b[0;32mlambda\u001b[0m \u001b[0mv\u001b[0m\u001b[0;34m:\u001b[0m \u001b[0mssdpl\u001b[0m\u001b[0;34m(\u001b[0m\u001b[0mG\u001b[0m\u001b[0;34m,\u001b[0m \u001b[0mv\u001b[0m\u001b[0;34m,\u001b[0m \u001b[0mweight\u001b[0m\u001b[0;34m=\u001b[0m\u001b[0mweight\u001b[0m\u001b[0;34m)\u001b[0m\u001b[0;34m\u001b[0m\u001b[0;34m\u001b[0m\u001b[0m\n\u001b[1;32m    331\u001b[0m     \u001b[0;31m# Sum the distances for each (ordered) pair of source and target node.\u001b[0m\u001b[0;34m\u001b[0m\u001b[0;34m\u001b[0m\u001b[0;34m\u001b[0m\u001b[0m\n\u001b[0;32m--> 332\u001b[0;31m     \u001b[0ms\u001b[0m \u001b[0;34m=\u001b[0m \u001b[0msum\u001b[0m\u001b[0;34m(\u001b[0m\u001b[0ml\u001b[0m \u001b[0;32mfor\u001b[0m \u001b[0mu\u001b[0m \u001b[0;32min\u001b[0m \u001b[0mG\u001b[0m \u001b[0;32mfor\u001b[0m \u001b[0ml\u001b[0m \u001b[0;32min\u001b[0m \u001b[0mpath_length\u001b[0m\u001b[0;34m(\u001b[0m\u001b[0mu\u001b[0m\u001b[0;34m)\u001b[0m\u001b[0;34m.\u001b[0m\u001b[0mvalues\u001b[0m\u001b[0;34m(\u001b[0m\u001b[0;34m)\u001b[0m\u001b[0;34m)\u001b[0m\u001b[0;34m\u001b[0m\u001b[0;34m\u001b[0m\u001b[0m\n\u001b[0m\u001b[1;32m    333\u001b[0m     \u001b[0;32mreturn\u001b[0m \u001b[0ms\u001b[0m \u001b[0;34m/\u001b[0m \u001b[0;34m(\u001b[0m\u001b[0mn\u001b[0m \u001b[0;34m*\u001b[0m \u001b[0;34m(\u001b[0m\u001b[0mn\u001b[0m \u001b[0;34m-\u001b[0m \u001b[0;36m1\u001b[0m\u001b[0;34m)\u001b[0m\u001b[0;34m)\u001b[0m\u001b[0;34m\u001b[0m\u001b[0;34m\u001b[0m\u001b[0m\n\u001b[1;32m    334\u001b[0m \u001b[0;34m\u001b[0m\u001b[0m\n",
      "\u001b[0;32m/opt/conda/lib/python3.6/site-packages/networkx/algorithms/shortest_paths/generic.py\u001b[0m in \u001b[0;36m<genexpr>\u001b[0;34m(.0)\u001b[0m\n\u001b[1;32m    330\u001b[0m         \u001b[0mpath_length\u001b[0m \u001b[0;34m=\u001b[0m \u001b[0;32mlambda\u001b[0m \u001b[0mv\u001b[0m\u001b[0;34m:\u001b[0m \u001b[0mssdpl\u001b[0m\u001b[0;34m(\u001b[0m\u001b[0mG\u001b[0m\u001b[0;34m,\u001b[0m \u001b[0mv\u001b[0m\u001b[0;34m,\u001b[0m \u001b[0mweight\u001b[0m\u001b[0;34m=\u001b[0m\u001b[0mweight\u001b[0m\u001b[0;34m)\u001b[0m\u001b[0;34m\u001b[0m\u001b[0;34m\u001b[0m\u001b[0m\n\u001b[1;32m    331\u001b[0m     \u001b[0;31m# Sum the distances for each (ordered) pair of source and target node.\u001b[0m\u001b[0;34m\u001b[0m\u001b[0;34m\u001b[0m\u001b[0;34m\u001b[0m\u001b[0m\n\u001b[0;32m--> 332\u001b[0;31m     \u001b[0ms\u001b[0m \u001b[0;34m=\u001b[0m \u001b[0msum\u001b[0m\u001b[0;34m(\u001b[0m\u001b[0ml\u001b[0m \u001b[0;32mfor\u001b[0m \u001b[0mu\u001b[0m \u001b[0;32min\u001b[0m \u001b[0mG\u001b[0m \u001b[0;32mfor\u001b[0m \u001b[0ml\u001b[0m \u001b[0;32min\u001b[0m \u001b[0mpath_length\u001b[0m\u001b[0;34m(\u001b[0m\u001b[0mu\u001b[0m\u001b[0;34m)\u001b[0m\u001b[0;34m.\u001b[0m\u001b[0mvalues\u001b[0m\u001b[0;34m(\u001b[0m\u001b[0;34m)\u001b[0m\u001b[0;34m)\u001b[0m\u001b[0;34m\u001b[0m\u001b[0;34m\u001b[0m\u001b[0m\n\u001b[0m\u001b[1;32m    333\u001b[0m     \u001b[0;32mreturn\u001b[0m \u001b[0ms\u001b[0m \u001b[0;34m/\u001b[0m \u001b[0;34m(\u001b[0m\u001b[0mn\u001b[0m \u001b[0;34m*\u001b[0m \u001b[0;34m(\u001b[0m\u001b[0mn\u001b[0m \u001b[0;34m-\u001b[0m \u001b[0;36m1\u001b[0m\u001b[0;34m)\u001b[0m\u001b[0;34m)\u001b[0m\u001b[0;34m\u001b[0m\u001b[0;34m\u001b[0m\u001b[0m\n\u001b[1;32m    334\u001b[0m \u001b[0;34m\u001b[0m\u001b[0m\n",
      "\u001b[0;32m/opt/conda/lib/python3.6/site-packages/networkx/algorithms/shortest_paths/generic.py\u001b[0m in \u001b[0;36m<lambda>\u001b[0;34m(v)\u001b[0m\n\u001b[1;32m    325\u001b[0m     \u001b[0;31m# Compute all-pairs shortest paths.\u001b[0m\u001b[0;34m\u001b[0m\u001b[0;34m\u001b[0m\u001b[0;34m\u001b[0m\u001b[0m\n\u001b[1;32m    326\u001b[0m     \u001b[0;32mif\u001b[0m \u001b[0mweight\u001b[0m \u001b[0;32mis\u001b[0m \u001b[0;32mNone\u001b[0m\u001b[0;34m:\u001b[0m\u001b[0;34m\u001b[0m\u001b[0;34m\u001b[0m\u001b[0m\n\u001b[0;32m--> 327\u001b[0;31m         \u001b[0mpath_length\u001b[0m \u001b[0;34m=\u001b[0m \u001b[0;32mlambda\u001b[0m \u001b[0mv\u001b[0m\u001b[0;34m:\u001b[0m \u001b[0mnx\u001b[0m\u001b[0;34m.\u001b[0m\u001b[0msingle_source_shortest_path_length\u001b[0m\u001b[0;34m(\u001b[0m\u001b[0mG\u001b[0m\u001b[0;34m,\u001b[0m \u001b[0mv\u001b[0m\u001b[0;34m)\u001b[0m\u001b[0;34m\u001b[0m\u001b[0;34m\u001b[0m\u001b[0m\n\u001b[0m\u001b[1;32m    328\u001b[0m     \u001b[0;32melse\u001b[0m\u001b[0;34m:\u001b[0m\u001b[0;34m\u001b[0m\u001b[0;34m\u001b[0m\u001b[0m\n\u001b[1;32m    329\u001b[0m         \u001b[0mssdpl\u001b[0m \u001b[0;34m=\u001b[0m \u001b[0mnx\u001b[0m\u001b[0;34m.\u001b[0m\u001b[0msingle_source_dijkstra_path_length\u001b[0m\u001b[0;34m\u001b[0m\u001b[0;34m\u001b[0m\u001b[0m\n",
      "\u001b[0;32m/opt/conda/lib/python3.6/site-packages/networkx/algorithms/shortest_paths/unweighted.py\u001b[0m in \u001b[0;36msingle_source_shortest_path_length\u001b[0;34m(G, source, cutoff)\u001b[0m\n\u001b[1;32m     64\u001b[0m         \u001b[0mcutoff\u001b[0m \u001b[0;34m=\u001b[0m \u001b[0mfloat\u001b[0m\u001b[0;34m(\u001b[0m\u001b[0;34m'inf'\u001b[0m\u001b[0;34m)\u001b[0m\u001b[0;34m\u001b[0m\u001b[0;34m\u001b[0m\u001b[0m\n\u001b[1;32m     65\u001b[0m     \u001b[0mnextlevel\u001b[0m \u001b[0;34m=\u001b[0m \u001b[0;34m{\u001b[0m\u001b[0msource\u001b[0m\u001b[0;34m:\u001b[0m \u001b[0;36m1\u001b[0m\u001b[0;34m}\u001b[0m\u001b[0;34m\u001b[0m\u001b[0;34m\u001b[0m\u001b[0m\n\u001b[0;32m---> 66\u001b[0;31m     \u001b[0;32mreturn\u001b[0m \u001b[0mdict\u001b[0m\u001b[0;34m(\u001b[0m\u001b[0m_single_shortest_path_length\u001b[0m\u001b[0;34m(\u001b[0m\u001b[0mG\u001b[0m\u001b[0;34m.\u001b[0m\u001b[0madj\u001b[0m\u001b[0;34m,\u001b[0m \u001b[0mnextlevel\u001b[0m\u001b[0;34m,\u001b[0m \u001b[0mcutoff\u001b[0m\u001b[0;34m)\u001b[0m\u001b[0;34m)\u001b[0m\u001b[0;34m\u001b[0m\u001b[0;34m\u001b[0m\u001b[0m\n\u001b[0m\u001b[1;32m     67\u001b[0m \u001b[0;34m\u001b[0m\u001b[0m\n\u001b[1;32m     68\u001b[0m \u001b[0;34m\u001b[0m\u001b[0m\n",
      "\u001b[0;32m/opt/conda/lib/python3.6/site-packages/networkx/algorithms/shortest_paths/unweighted.py\u001b[0m in \u001b[0;36m_single_shortest_path_length\u001b[0;34m(adj, firstlevel, cutoff)\u001b[0m\n\u001b[1;32m     90\u001b[0m             \u001b[0;32mif\u001b[0m \u001b[0mv\u001b[0m \u001b[0;32mnot\u001b[0m \u001b[0;32min\u001b[0m \u001b[0mseen\u001b[0m\u001b[0;34m:\u001b[0m\u001b[0;34m\u001b[0m\u001b[0;34m\u001b[0m\u001b[0m\n\u001b[1;32m     91\u001b[0m                 \u001b[0mseen\u001b[0m\u001b[0;34m[\u001b[0m\u001b[0mv\u001b[0m\u001b[0;34m]\u001b[0m \u001b[0;34m=\u001b[0m \u001b[0mlevel\u001b[0m  \u001b[0;31m# set the level of vertex v\u001b[0m\u001b[0;34m\u001b[0m\u001b[0;34m\u001b[0m\u001b[0m\n\u001b[0;32m---> 92\u001b[0;31m                 \u001b[0mnextlevel\u001b[0m\u001b[0;34m.\u001b[0m\u001b[0mupdate\u001b[0m\u001b[0;34m(\u001b[0m\u001b[0madj\u001b[0m\u001b[0;34m[\u001b[0m\u001b[0mv\u001b[0m\u001b[0;34m]\u001b[0m\u001b[0;34m)\u001b[0m  \u001b[0;31m# add neighbors of v\u001b[0m\u001b[0;34m\u001b[0m\u001b[0;34m\u001b[0m\u001b[0m\n\u001b[0m\u001b[1;32m     93\u001b[0m                 \u001b[0;32myield\u001b[0m \u001b[0;34m(\u001b[0m\u001b[0mv\u001b[0m\u001b[0;34m,\u001b[0m \u001b[0mlevel\u001b[0m\u001b[0;34m)\u001b[0m\u001b[0;34m\u001b[0m\u001b[0;34m\u001b[0m\u001b[0m\n\u001b[1;32m     94\u001b[0m         \u001b[0mlevel\u001b[0m \u001b[0;34m+=\u001b[0m \u001b[0;36m1\u001b[0m\u001b[0;34m\u001b[0m\u001b[0;34m\u001b[0m\u001b[0m\n",
      "\u001b[0;32m/opt/conda/lib/python3.6/_collections_abc.py\u001b[0m in \u001b[0;36mkeys\u001b[0;34m(self)\u001b[0m\n\u001b[1;32m    670\u001b[0m             \u001b[0;32mreturn\u001b[0m \u001b[0;32mTrue\u001b[0m\u001b[0;34m\u001b[0m\u001b[0;34m\u001b[0m\u001b[0m\n\u001b[1;32m    671\u001b[0m \u001b[0;34m\u001b[0m\u001b[0m\n\u001b[0;32m--> 672\u001b[0;31m     \u001b[0;32mdef\u001b[0m \u001b[0mkeys\u001b[0m\u001b[0;34m(\u001b[0m\u001b[0mself\u001b[0m\u001b[0;34m)\u001b[0m\u001b[0;34m:\u001b[0m\u001b[0;34m\u001b[0m\u001b[0;34m\u001b[0m\u001b[0m\n\u001b[0m\u001b[1;32m    673\u001b[0m         \u001b[0;34m\"D.keys() -> a set-like object providing a view on D's keys\"\u001b[0m\u001b[0;34m\u001b[0m\u001b[0;34m\u001b[0m\u001b[0m\n\u001b[1;32m    674\u001b[0m         \u001b[0;32mreturn\u001b[0m \u001b[0mKeysView\u001b[0m\u001b[0;34m(\u001b[0m\u001b[0mself\u001b[0m\u001b[0;34m)\u001b[0m\u001b[0;34m\u001b[0m\u001b[0;34m\u001b[0m\u001b[0m\n",
      "\u001b[0;31mKeyboardInterrupt\u001b[0m: "
     ]
    }
   ],
   "source": [
    "device = torch.device('cuda' if torch.cuda.is_available() else 'cpu')\n",
    "# config\n",
    "image_size = 100\n",
    "c_dim = 4\n",
    "g_repeat_num = 6\n",
    "g_conv_dim = 64\n",
    "\n",
    "for file_name in glob(\"../logs/*\"):\n",
    "    for epoch in [50000, 90000, 100000]:\n",
    "        print(file_name, epoch)\n",
    "        # set generator\n",
    "        model = Generator(g_conv_dim, c_dim, g_repeat_num).to(device)\n",
    "        model_path = f\"{file_name}/model/{epoch}-G.ckpt\"\n",
    "        model.load_state_dict(torch.load(model_path))\n",
    "\n",
    "        df = test_3model(model, transform)\n",
    "        df.to_csv(f\"{file_name}/test_{epoch}.csv\", index=False)"
   ]
  },
  {
   "cell_type": "code",
   "execution_count": 12,
   "metadata": {},
   "outputs": [
    {
     "data": {
      "text/plain": [
       "['../logs/subset1_edge10',\n",
       " '../logs/poisson',\n",
       " '../logs/poisson_edge10',\n",
       " '../logs/poisson_edge1',\n",
       " '../logs/subset1',\n",
       " '../logs/poisson_edge0.5',\n",
       " '../logs/subset1_edge1']"
      ]
     },
     "execution_count": 12,
     "metadata": {},
     "output_type": "execute_result"
    }
   ],
   "source": [
    "glob(\"../logs/*\")"
   ]
  },
  {
   "cell_type": "code",
   "execution_count": null,
   "metadata": {},
   "outputs": [
    {
     "name": "stdout",
     "output_type": "stream",
     "text": [
      "../logs/poisson 100000\n"
     ]
    },
    {
     "name": "stderr",
     "output_type": "stream",
     "text": [
      "\n",
      "  0%|          | 0/10 [00:00<?, ?it/s]\u001b[A\n",
      " 10%|█         | 1/10 [00:09<01:27,  9.73s/it]\u001b[A\n",
      " 20%|██        | 2/10 [00:22<01:25, 10.70s/it]\u001b[A\n",
      " 30%|███       | 3/10 [00:39<01:27, 12.45s/it]\u001b[A\n",
      " 40%|████      | 4/10 [00:59<01:28, 14.82s/it]\u001b[A\n",
      " 50%|█████     | 5/10 [01:23<01:27, 17.47s/it]\u001b[A\n",
      " 60%|██████    | 6/10 [01:49<01:19, 20.00s/it]\u001b[A\n",
      " 70%|███████   | 7/10 [02:17<01:07, 22.58s/it]\u001b[A\n",
      " 80%|████████  | 8/10 [02:47<00:49, 24.78s/it]\u001b[A\n",
      " 90%|█████████ | 9/10 [03:19<00:26, 26.82s/it]\u001b[A\n",
      "100%|██████████| 10/10 [03:52<00:00, 28.65s/it]\u001b[A\n",
      "  0%|          | 0/10 [00:00<?, ?it/s]\u001b[A\n",
      " 10%|█         | 1/10 [00:10<01:34, 10.46s/it]\u001b[A\n",
      " 20%|██        | 2/10 [00:25<01:34, 11.85s/it]\u001b[A\n",
      " 30%|███       | 3/10 [00:45<01:39, 14.26s/it]\u001b[A\n",
      " 40%|████      | 4/10 [01:09<01:42, 17.14s/it]\u001b[A\n",
      " 50%|█████     | 5/10 [01:36<01:40, 20.03s/it]\u001b[A\n",
      " 60%|██████    | 6/10 [02:04<01:30, 22.57s/it]\u001b[A\n",
      " 70%|███████   | 7/10 [02:35<01:15, 25.05s/it]\u001b[A\n",
      " 80%|████████  | 8/10 [03:08<00:55, 27.57s/it]\u001b[A\n",
      " 90%|█████████ | 9/10 [03:43<00:29, 29.83s/it]\u001b[A\n",
      "100%|██████████| 10/10 [04:20<00:00, 31.88s/it]\u001b[A\n",
      "  0%|          | 0/10 [00:00<?, ?it/s]\u001b[A\n",
      " 10%|█         | 1/10 [00:08<01:18,  8.71s/it]\u001b[A\n",
      " 20%|██        | 2/10 [00:18<01:12,  9.12s/it]\u001b[A\n",
      " 30%|███       | 3/10 [00:34<01:16, 10.98s/it]\u001b[A\n",
      " 40%|████      | 4/10 [00:56<01:26, 14.34s/it]\u001b[A\n",
      " 50%|█████     | 5/10 [01:23<01:31, 18.30s/it]\u001b[A\n",
      " 60%|██████    | 6/10 [01:55<01:29, 22.29s/it]\u001b[A\n",
      " 70%|███████   | 7/10 [02:30<01:18, 26.12s/it]\u001b[A\n",
      " 80%|████████  | 8/10 [03:08<00:59, 29.64s/it]\u001b[A\n",
      " 90%|█████████ | 9/10 [03:48<00:32, 32.69s/it]\u001b[A"
     ]
    }
   ],
   "source": [
    "device = torch.device('cuda' if torch.cuda.is_available() else 'cpu')\n",
    "# config\n",
    "image_size = 100\n",
    "c_dim = 4\n",
    "g_repeat_num = 6\n",
    "g_conv_dim = 64\n",
    "\n",
    "file_name = '../logs/poisson'\n",
    "for epoch in [100000]:\n",
    "    print(file_name, epoch)\n",
    "    # set generator\n",
    "    model = Generator(g_conv_dim, c_dim, g_repeat_num).to(device)\n",
    "    model_path = f\"{file_name}/model/{epoch}-G.ckpt\"\n",
    "    model.load_state_dict(torch.load(model_path))\n",
    "\n",
    "    df = test_3model(model, transform)\n",
    "    df.to_csv(f\"{file_name}/test_{epoch}.csv\", index=False)"
   ]
  },
  {
   "cell_type": "code",
   "execution_count": null,
   "metadata": {},
   "outputs": [],
   "source": []
  }
 ],
 "metadata": {
  "interpreter": {
   "hash": "d4d1e4263499bec80672ea0156c357c1ee493ec2b1c70f0acce89fc37c4a6abe"
  },
  "kernelspec": {
   "display_name": "Python 3",
   "language": "python",
   "name": "python3"
  },
  "language_info": {
   "codemirror_mode": {
    "name": "ipython",
    "version": 3
   },
   "file_extension": ".py",
   "mimetype": "text/x-python",
   "name": "python",
   "nbconvert_exporter": "python",
   "pygments_lexer": "ipython3",
   "version": "3.6.10"
  }
 },
 "nbformat": 4,
 "nbformat_minor": 4
}
