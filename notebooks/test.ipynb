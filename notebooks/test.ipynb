{
 "cells": [
  {
   "cell_type": "code",
   "execution_count": 131,
   "metadata": {},
   "outputs": [],
   "source": [
    "import sys\n",
    "sys.path.append(\"..\")\n",
    "\n",
    "import torch\n",
    "import numpy as np\n",
    "import networkx as nx\n",
    "import pandas as pd\n",
    "import seaborn as sns\n",
    "import matplotlib.pyplot as plt\n",
    "import torchvision.transforms as transforms\n",
    "\n",
    "from tqdm import tqdm\n",
    "from collections import Counter\n",
    "from lmfit.models import PowerLawModel\n",
    "from scipy.stats import skew, kurtosis\n",
    "\n",
    "from reserch_utils_HT import no_growth, no_preferential_attachment\n",
    "from reserch_utils_HT import network_to_image, degree_hist\n",
    "from model import Generator\n",
    "from model import Discriminator\n",
    "from train_utils import get_loader, label2onehot"
   ]
  },
  {
   "cell_type": "code",
   "execution_count": 126,
   "metadata": {},
   "outputs": [
    {
     "data": {
      "text/plain": [
       "<All keys matched successfully>"
      ]
     },
     "execution_count": 126,
     "metadata": {},
     "output_type": "execute_result"
    }
   ],
   "source": [
    "device = torch.device('cuda' if torch.cuda.is_available() else 'cpu')\n",
    "# config\n",
    "image_size = 100\n",
    "c_dim = 4\n",
    "g_repeat_num = 6\n",
    "g_conv_dim = 64\n",
    "\n",
    "# set generator\n",
    "model = Generator(g_conv_dim, c_dim, g_repeat_num).to(device)\n",
    "model_path = \"../logs/poisson/model/100000-G.ckpt\"\n",
    "model.load_state_dict(torch.load(model_path))"
   ]
  },
  {
   "cell_type": "code",
   "execution_count": 127,
   "metadata": {},
   "outputs": [],
   "source": [
    "def img_transform(model, img, transform, device):\n",
    "    \"\"\" make all label fake image from graph \"\"\"\n",
    "    graph_tensor = transform(img).reshape(1,1,100,100).to(device) # img to tensor\n",
    "    trg_label = label2onehot(torch.tensor([0,1,2,3]), 4).to(device) # make target label\n",
    "    origin_tensors = torch.cat([graph_tensor for _ in range(4)]) # cat origin image tensor\n",
    "    # generate fake image\n",
    "    with torch.no_grad():\n",
    "        fake_tensor = model(origin_tensors, trg_label)\n",
    "    return fake_tensor.detach().cpu()\n",
    "\n",
    "def power_law_fit(G):\n",
    "    \"\"\" degree dist fitting \"\"\"\n",
    "    c = Counter(dict(G.degree()).values())\n",
    "    score_sorted = sorted(c.items(), key=lambda x:x[0])\n",
    "    x = [k for k, v in score_sorted if k!=0]\n",
    "    y = [v for k, v in score_sorted if k!=0]\n",
    "    model = PowerLawModel()\n",
    "    params = model.guess(y, x=x)\n",
    "    result = model.fit(y, params, x=x)\n",
    "    return result.values\n",
    "\n",
    "def tensor_to_graph(tensor, thres):\n",
    "    A = (tensor + tensor.T).numpy()\n",
    "    A = (A > thres).astype(int)\n",
    "    G = nx.from_numpy_array(A)\n",
    "    return G\n",
    "\n",
    "def net_info(G):\n",
    "    degs = np.array(list(dict(G.degree()).values()))\n",
    "    info = {\n",
    "        \"max_degree\" : max(degs),\n",
    "        \"min_degree\" : min(degs),\n",
    "        \"average_degree\": np.average(degs),\n",
    "        \"num_edges\" : nx.number_of_edges(G),\n",
    "        \"beta\" : power_law_fit(G)['exponent'], # べきfittingの指数\n",
    "        \"Skewness\": skew(degs),  # 歪度\n",
    "        \"Kurtosis\": kurtosis(degs)  # 尖度\n",
    "    }\n",
    "    return info"
   ]
  },
  {
   "cell_type": "code",
   "execution_count": 128,
   "metadata": {},
   "outputs": [],
   "source": [
    "transform = transforms.Compose(\n",
    "    [\n",
    "        transforms.Resize(100),\n",
    "        transforms.Grayscale(),\n",
    "        transforms.ToTensor(),\n",
    "    ]\n",
    ")"
   ]
  },
  {
   "cell_type": "code",
   "execution_count": 167,
   "metadata": {},
   "outputs": [],
   "source": [
    "\"\"\" make all label fake image from graph \"\"\"\n",
    "graph_tensor = transform(img).reshape(1,1,100,100).to(device) # img to tensor\n",
    "trg_label = label2onehot(torch.tensor([0,1,2,3]), 4).to(device) # make target label\n",
    "origin_tensors = torch.cat([graph_tensor for _ in range(4)]) # cat origin image tensor\n",
    "# generate fake image\n",
    "with torch.no_grad():\n",
    "    fake_tensor = model(origin_tensors, trg_label)\n",
    "\n",
    "sample = fake_tensor.detach().cpu()"
   ]
  },
  {
   "cell_type": "code",
   "execution_count": 201,
   "metadata": {},
   "outputs": [
    {
     "data": {
      "text/plain": [
       "torch.Size([4, 1, 10000])"
      ]
     },
     "execution_count": 201,
     "metadata": {},
     "output_type": "execute_result"
    }
   ],
   "source": [
    "sample.reshape(4,1,-1).shape"
   ]
  },
  {
   "cell_type": "code",
   "execution_count": 207,
   "metadata": {},
   "outputs": [
    {
     "data": {
      "text/plain": [
       "0.0"
      ]
     },
     "execution_count": 207,
     "metadata": {},
     "output_type": "execute_result"
    }
   ],
   "source": [
    "(torch.squeeze(sample, 1).reshape(4,-1).sum(1) - torch.squeeze(sample, 1).reshape(4,-1).sum(1)).sum().item()"
   ]
  },
  {
   "cell_type": "code",
   "execution_count": 185,
   "metadata": {},
   "outputs": [
    {
     "data": {
      "text/plain": [
       "torch.Size([4, 100, 100])"
      ]
     },
     "execution_count": 185,
     "metadata": {},
     "output_type": "execute_result"
    }
   ],
   "source": [
    "torch.sum(sample > .5, 1).shape"
   ]
  },
  {
   "cell_type": "code",
   "execution_count": 132,
   "metadata": {},
   "outputs": [
    {
     "name": "stderr",
     "output_type": "stream",
     "text": [
      "100%|██████████| 10/10 [01:09<00:00,  7.11s/it]\n"
     ]
    }
   ],
   "source": [
    "df = pd.DataFrame()\n",
    "\n",
    "num_to_kind = [\"BA\", \"Attach\", \"Growth\", \"Random\"]\n",
    "\n",
    "for m in tqdm([1,2,3,4,5,6,7,8,9,10]):\n",
    "    for i in range(100):\n",
    "        G = nx.barabasi_albert_graph(100, m, seed=i+2000)\n",
    "        info = net_info(G)\n",
    "        info[\"origin_label\"] = \"BA\"\n",
    "        info[\"fake_label\"] = \"origin\"\n",
    "        info[\"parameter\"] = m\n",
    "        info[\"seed\"] = i+2000\n",
    "        df = df.append(info, ignore_index=True)\n",
    "        \n",
    "        img = network_to_image(G, sort=True)\n",
    "        fake_tensor = img_transform(model, img, transform, device)\n",
    "        \n",
    "        for i in range(4):\n",
    "            fake_G = tensor_to_graph(fake_tensor[i][0], 1.)\n",
    "            info = net_info(fake_G)\n",
    "            info[\"origin_label\"] = \"BA\"\n",
    "            info[\"fake_label\"] = num_to_kind[i]\n",
    "            info[\"parameter\"] = m\n",
    "            info[\"seed\"] = i+2000\n",
    "            df = df.append(info, ignore_index=True)"
   ]
  },
  {
   "cell_type": "code",
   "execution_count": 133,
   "metadata": {},
   "outputs": [
    {
     "name": "stderr",
     "output_type": "stream",
     "text": [
      "100%|██████████| 10/10 [01:11<00:00,  7.46s/it]\n"
     ]
    }
   ],
   "source": [
    "for m in tqdm([1,2,3,4,5,6,7,8,9,10]):\n",
    "    for i in range(100):\n",
    "        G = no_preferential_attachment(100, m, seed=i+2000)\n",
    "        info = net_info(G)\n",
    "        info[\"origin_label\"] = \"Growth\"\n",
    "        info[\"fake_label\"] = \"origin\"\n",
    "        info[\"parameter\"] = m\n",
    "        info[\"seed\"] = i+2000\n",
    "        df = df.append(info, ignore_index=True)\n",
    "        \n",
    "        img = network_to_image(G, sort=True)\n",
    "        fake_tensor = img_transform(model, img, transform, device)\n",
    "        \n",
    "        for i in range(4):\n",
    "            fake_G = tensor_to_graph(fake_tensor[i][0], 1.)\n",
    "            info = net_info(fake_G)\n",
    "            info[\"origin_label\"] = \"Growth\"\n",
    "            info[\"fake_label\"] = num_to_kind[i]\n",
    "            info[\"parameter\"] = m\n",
    "            info[\"seed\"] = i+2000\n",
    "            df = df.append(info, ignore_index=True)"
   ]
  },
  {
   "cell_type": "code",
   "execution_count": 135,
   "metadata": {},
   "outputs": [
    {
     "name": "stderr",
     "output_type": "stream",
     "text": [
      "100%|██████████| 10/10 [01:49<00:00, 12.83s/it]\n"
     ]
    }
   ],
   "source": [
    "for m in tqdm([100, 200, 300,400,500,600,700,800,900,1000]):\n",
    "    for i in range(100):\n",
    "        G = no_growth(100, m, seed=i+2000)\n",
    "        info = net_info(G)\n",
    "        info[\"origin_label\"] = \"Attach\"\n",
    "        info[\"fake_label\"] = \"origin\"\n",
    "        info[\"parameter\"] = m\n",
    "        info[\"seed\"] = i+2000\n",
    "        df = df.append(info, ignore_index=True)\n",
    "        \n",
    "        img = network_to_image(G, sort=True)\n",
    "        fake_tensor = img_transform(model, img, transform, device)\n",
    "        \n",
    "        for i in range(4):\n",
    "            fake_G = tensor_to_graph(fake_tensor[i][0], 1.)\n",
    "            info = net_info(fake_G)\n",
    "            info[\"origin_label\"] = \"Attach\"\n",
    "            info[\"fake_label\"] = num_to_kind[i]\n",
    "            info[\"parameter\"] = m\n",
    "            info[\"seed\"] = i+2000\n",
    "            df = df.append(info, ignore_index=True)"
   ]
  },
  {
   "cell_type": "code",
   "execution_count": 137,
   "metadata": {},
   "outputs": [],
   "source": [
    "df.to_csv(\"../logs/poisson/test.csv\")"
   ]
  },
  {
   "cell_type": "code",
   "execution_count": 139,
   "metadata": {},
   "outputs": [
    {
     "data": {
      "text/html": [
       "<div>\n",
       "<style scoped>\n",
       "    .dataframe tbody tr th:only-of-type {\n",
       "        vertical-align: middle;\n",
       "    }\n",
       "\n",
       "    .dataframe tbody tr th {\n",
       "        vertical-align: top;\n",
       "    }\n",
       "\n",
       "    .dataframe thead th {\n",
       "        text-align: right;\n",
       "    }\n",
       "</style>\n",
       "<table border=\"1\" class=\"dataframe\">\n",
       "  <thead>\n",
       "    <tr style=\"text-align: right;\">\n",
       "      <th></th>\n",
       "      <th>Kurtosis</th>\n",
       "      <th>Skewness</th>\n",
       "      <th>average_degree</th>\n",
       "      <th>beta</th>\n",
       "      <th>fake_label</th>\n",
       "      <th>max_degree</th>\n",
       "      <th>min_degree</th>\n",
       "      <th>num_edges</th>\n",
       "      <th>origin_label</th>\n",
       "      <th>parameter</th>\n",
       "      <th>seed</th>\n",
       "    </tr>\n",
       "  </thead>\n",
       "  <tbody>\n",
       "    <tr>\n",
       "      <th>0</th>\n",
       "      <td>10.907080</td>\n",
       "      <td>3.233303</td>\n",
       "      <td>1.98</td>\n",
       "      <td>-2.031950</td>\n",
       "      <td>origin</td>\n",
       "      <td>13.0</td>\n",
       "      <td>1.0</td>\n",
       "      <td>99.0</td>\n",
       "      <td>BA</td>\n",
       "      <td>1.0</td>\n",
       "      <td>2000.0</td>\n",
       "    </tr>\n",
       "    <tr>\n",
       "      <th>1</th>\n",
       "      <td>16.903285</td>\n",
       "      <td>3.940030</td>\n",
       "      <td>2.38</td>\n",
       "      <td>-1.865920</td>\n",
       "      <td>BA</td>\n",
       "      <td>22.0</td>\n",
       "      <td>0.0</td>\n",
       "      <td>119.0</td>\n",
       "      <td>BA</td>\n",
       "      <td>1.0</td>\n",
       "      <td>2000.0</td>\n",
       "    </tr>\n",
       "    <tr>\n",
       "      <th>2</th>\n",
       "      <td>7.276463</td>\n",
       "      <td>2.532193</td>\n",
       "      <td>1.98</td>\n",
       "      <td>-1.618772</td>\n",
       "      <td>Attach</td>\n",
       "      <td>13.0</td>\n",
       "      <td>0.0</td>\n",
       "      <td>99.0</td>\n",
       "      <td>BA</td>\n",
       "      <td>1.0</td>\n",
       "      <td>2001.0</td>\n",
       "    </tr>\n",
       "    <tr>\n",
       "      <th>3</th>\n",
       "      <td>6.858542</td>\n",
       "      <td>2.540146</td>\n",
       "      <td>2.20</td>\n",
       "      <td>-1.479951</td>\n",
       "      <td>Growth</td>\n",
       "      <td>12.0</td>\n",
       "      <td>0.0</td>\n",
       "      <td>110.0</td>\n",
       "      <td>BA</td>\n",
       "      <td>1.0</td>\n",
       "      <td>2002.0</td>\n",
       "    </tr>\n",
       "    <tr>\n",
       "      <th>4</th>\n",
       "      <td>1.146966</td>\n",
       "      <td>1.156534</td>\n",
       "      <td>2.76</td>\n",
       "      <td>-1.098374</td>\n",
       "      <td>Random</td>\n",
       "      <td>11.0</td>\n",
       "      <td>0.0</td>\n",
       "      <td>138.0</td>\n",
       "      <td>BA</td>\n",
       "      <td>1.0</td>\n",
       "      <td>2003.0</td>\n",
       "    </tr>\n",
       "  </tbody>\n",
       "</table>\n",
       "</div>"
      ],
      "text/plain": [
       "    Kurtosis  Skewness  average_degree      beta fake_label  max_degree  \\\n",
       "0  10.907080  3.233303            1.98 -2.031950     origin        13.0   \n",
       "1  16.903285  3.940030            2.38 -1.865920         BA        22.0   \n",
       "2   7.276463  2.532193            1.98 -1.618772     Attach        13.0   \n",
       "3   6.858542  2.540146            2.20 -1.479951     Growth        12.0   \n",
       "4   1.146966  1.156534            2.76 -1.098374     Random        11.0   \n",
       "\n",
       "   min_degree  num_edges origin_label  parameter    seed  \n",
       "0         1.0       99.0           BA        1.0  2000.0  \n",
       "1         0.0      119.0           BA        1.0  2000.0  \n",
       "2         0.0       99.0           BA        1.0  2001.0  \n",
       "3         0.0      110.0           BA        1.0  2002.0  \n",
       "4         0.0      138.0           BA        1.0  2003.0  "
      ]
     },
     "execution_count": 139,
     "metadata": {},
     "output_type": "execute_result"
    }
   ],
   "source": [
    "df.head()"
   ]
  },
  {
   "cell_type": "code",
   "execution_count": 164,
   "metadata": {},
   "outputs": [],
   "source": [
    "def q_plot(df,kind,ax):\n",
    "    q_df = df.query(\"origin_label==@kind & fake_label in ['origin', 'BA']\")\n",
    "    sns.lineplot(data=q_df, x=\"parameter\", y=\"num_edges\", hue=\"fake_label\",legend=True,ax=ax)"
   ]
  },
  {
   "cell_type": "code",
   "execution_count": 165,
   "metadata": {},
   "outputs": [
    {
     "data": {
      "image/png": "[encoded data removed]",
      "text/plain": [
       "<Figure size 1080x360 with 3 Axes>"
      ]
     },
     "metadata": {
      "needs_background": "light"
     },
     "output_type": "display_data"
    }
   ],
   "source": [
    "fig, axes = plt.subplots(1,3,figsize=(15,5), sharey=True)\n",
    "for i,k in enumerate([\"BA\", \"Attach\", \"Growth\"]):\n",
    "    q_plot(df,k,axes[i])"
   ]
  },
  {
   "cell_type": "code",
   "execution_count": 157,
   "metadata": {},
   "outputs": [
    {
     "name": "stderr",
     "output_type": "stream",
     "text": [
      "/opt/conda/lib/python3.6/site-packages/pandas/core/frame.py:4042: SettingWithCopyWarning: \n",
      "A value is trying to be set on a copy of a slice from a DataFrame\n",
      "\n",
      "See the caveats in the documentation: http://pandas.pydata.org/pandas-docs/stable/indexing.html#indexing-view-versus-copy\n",
      "  method=method)\n"
     ]
    },
    {
     "data": {
      "text/plain": [
       "<matplotlib.legend.Legend at 0x7efdb4325668>"
      ]
     },
     "execution_count": 157,
     "metadata": {},
     "output_type": "execute_result"
    },
    {
     "data": {
      "image/png": "[encoded data removed]",
      "text/plain": [
       "<Figure size 432x288 with 1 Axes>"
      ]
     },
     "metadata": {
      "needs_background": "light"
     },
     "output_type": "display_data"
    }
   ],
   "source": [
    "q_df = df.query(\"origin_label=='Growth' & fake_label in ['origin', 'BA']\")\n",
    "sns.lineplot(data=q_df, x=\"parameter\", y=\"beta\", hue=\"fake_label\",legend=True)\n",
    "q_df = df.query(\"origin_label=='BA' & fake_label=='origin'\")\n",
    "q_df.replace(\"origin\", \"Original\", inplace=True)\n",
    "sns.lineplot(data=q_df, x=\"parameter\", y=\"beta\", hue=\"fake_label\", palette=\"Dark2\", legend=True)\n",
    "plt.legend(bbox_to_anchor = (1,1))"
   ]
  },
  {
   "cell_type": "code",
   "execution_count": 92,
   "metadata": {},
   "outputs": [
    {
     "data": {
      "image/png": "[encoded data removed]",
      "text/plain": [
       "<Figure size 1440x288 with 5 Axes>"
      ]
     },
     "metadata": {
      "needs_background": "light"
     },
     "output_type": "display_data"
    }
   ],
   "source": [
    "fig, axes = plt.subplots(1,5, figsize=(20,4))\n",
    "\n",
    "\n",
    "# G = nx.barabasi_albert_graph(100,2, seed=2001)\n",
    "G = no_growth(100, 200)\n",
    "\n",
    "img = network_to_image(G, sort=True)\n",
    "fake_tensor = img_transform(model, img, transform, device)\n",
    "\n",
    "axes[0].imshow(img)\n",
    "axes[0].set_title((np.array(img) > 1).sum())\n",
    "for i in range(4):\n",
    "    thres_array = (fake_tensor[i][0] + fake_tensor[i][0].T) > 1.\n",
    "    axes[i+1].imshow(thres_array)\n",
    "    axes[i+1].set_title(thres_array.sum().item())"
   ]
  },
  {
   "cell_type": "code",
   "execution_count": 101,
   "metadata": {},
   "outputs": [],
   "source": []
  },
  {
   "cell_type": "code",
   "execution_count": 103,
   "metadata": {},
   "outputs": [],
   "source": [
    "c = Counter(dict(graph.degree()).values())"
   ]
  },
  {
   "cell_type": "code",
   "execution_count": 105,
   "metadata": {},
   "outputs": [
    {
     "data": {
      "text/plain": [
       "array([281.19243204,  -0.85373685])"
      ]
     },
     "execution_count": 105,
     "metadata": {},
     "output_type": "execute_result"
    }
   ],
   "source": [
    "exponential_fitting(list(c.keys()), list(c.values()))"
   ]
  },
  {
   "cell_type": "code",
   "execution_count": 112,
   "metadata": {},
   "outputs": [],
   "source": []
  },
  {
   "cell_type": "code",
   "execution_count": 108,
   "metadata": {},
   "outputs": [],
   "source": []
  },
  {
   "cell_type": "code",
   "execution_count": 116,
   "metadata": {},
   "outputs": [
    {
     "name": "stdout",
     "output_type": "stream",
     "text": [
      "[[Model]]\n",
      "    Model(powerlaw)\n",
      "[[Fit Statistics]]\n",
      "    # fitting method   = leastsq\n",
      "    # function evals   = 34\n",
      "    # data points      = 15\n",
      "    # variables        = 2\n",
      "    chi-square         = 21.9728064\n",
      "    reduced chi-square = 1.69021587\n",
      "    Akaike info crit   = 9.72633119\n",
      "    Bayesian info crit = 11.1424316\n",
      "[[Variables]]\n",
      "    amplitude:  277.426480 +/- 23.8908499 (8.61%) (init = 51)\n",
      "    exponent:  -2.42915744 +/- 0.10640486 (4.38%) (init = 1)\n",
      "[[Correlations]] (unreported correlations are < 0.100)\n",
      "    C(amplitude, exponent) = -0.963\n"
     ]
    }
   ],
   "source": [
    "print(result.fit_report())"
   ]
  },
  {
   "cell_type": "code",
   "execution_count": 119,
   "metadata": {},
   "outputs": [
    {
     "data": {
      "text/plain": [
       "{'amplitude': 277.42647967070957, 'exponent': -2.4291574379851775}"
      ]
     },
     "execution_count": 119,
     "metadata": {},
     "output_type": "execute_result"
    }
   ],
   "source": [
    "result.values"
   ]
  },
  {
   "cell_type": "code",
   "execution_count": 96,
   "metadata": {},
   "outputs": [
    {
     "data": {
      "image/png": "[encoded data removed]",
      "text/plain": [
       "<Figure size 360x360 with 1 Axes>"
      ]
     },
     "metadata": {
      "needs_background": "light"
     },
     "output_type": "display_data"
    }
   ],
   "source": [
    "fig, axes  = plt.subplots(figsize=(5,5))\n",
    "degree_hist(graph, axes, color=\"b\", alpha=.5)\n",
    "degree_hist(fake_graph, axes, color=\"r\", alpha=.5)"
   ]
  },
  {
   "cell_type": "code",
   "execution_count": 155,
   "metadata": {},
   "outputs": [],
   "source": []
  },
  {
   "cell_type": "code",
   "execution_count": 22,
   "metadata": {},
   "outputs": [],
   "source": []
  },
  {
   "cell_type": "code",
   "execution_count": 18,
   "metadata": {},
   "outputs": [],
   "source": [
    "dataloader_iter = iter(get_loader(\"../data/poisson\"))"
   ]
  },
  {
   "cell_type": "code",
   "execution_count": 19,
   "metadata": {},
   "outputs": [],
   "source": [
    "img, label = next(dataloader_iter)"
   ]
  },
  {
   "cell_type": "code",
   "execution_count": 24,
   "metadata": {},
   "outputs": [
    {
     "data": {
      "text/plain": [
       "tensor([[0., 0., 1., 0.],\n",
       "        [1., 0., 0., 0.],\n",
       "        [1., 0., 0., 0.],\n",
       "        [0., 0., 1., 0.],\n",
       "        [0., 1., 0., 0.],\n",
       "        [0., 0., 0., 1.],\n",
       "        [0., 0., 1., 0.],\n",
       "        [0., 1., 0., 0.],\n",
       "        [0., 0., 1., 0.],\n",
       "        [0., 0., 1., 0.],\n",
       "        [0., 1., 0., 0.],\n",
       "        [0., 0., 1., 0.],\n",
       "        [0., 1., 0., 0.],\n",
       "        [1., 0., 0., 0.],\n",
       "        [0., 0., 1., 0.],\n",
       "        [1., 0., 0., 0.]])"
      ]
     },
     "execution_count": 24,
     "metadata": {},
     "output_type": "execute_result"
    }
   ],
   "source": [
    "label2onehot(label, 4)"
   ]
  },
  {
   "cell_type": "code",
   "execution_count": null,
   "metadata": {},
   "outputs": [],
   "source": []
  }
 ],
 "metadata": {
  "interpreter": {
   "hash": "d4d1e4263499bec80672ea0156c357c1ee493ec2b1c70f0acce89fc37c4a6abe"
  },
  "kernelspec": {
   "display_name": "Python 3",
   "language": "python",
   "name": "python3"
  },
  "language_info": {
   "codemirror_mode": {
    "name": "ipython",
    "version": 3
   },
   "file_extension": ".py",
   "mimetype": "text/x-python",
   "name": "python",
   "nbconvert_exporter": "python",
   "pygments_lexer": "ipython3",
   "version": "3.6.10"
  }
 },
 "nbformat": 4,
 "nbformat_minor": 4
}
